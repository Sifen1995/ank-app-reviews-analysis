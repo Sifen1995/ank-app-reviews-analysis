{
 "cells": [
  {
   "cell_type": "code",
   "execution_count": 1,
   "id": "67033a11-89f5-4848-8fed-f00692d42cd3",
   "metadata": {},
   "outputs": [
    {
     "name": "stdout",
     "output_type": "stream",
     "text": [
      "Collecting google-play-scraper\n",
      "  Downloading google_play_scraper-1.2.7-py3-none-any.whl.metadata (50 kB)\n",
      "Requirement already satisfied: pandas in c:\\users\\ematimot\\appdata\\local\\programs\\python\\python312\\lib\\site-packages (2.2.3)\n",
      "Collecting tqdm\n",
      "  Downloading tqdm-4.67.1-py3-none-any.whl.metadata (57 kB)\n",
      "Requirement already satisfied: numpy>=1.26.0 in c:\\users\\ematimot\\appdata\\local\\programs\\python\\python312\\lib\\site-packages (from pandas) (2.1.3)\n",
      "Requirement already satisfied: python-dateutil>=2.8.2 in c:\\users\\ematimot\\appdata\\local\\programs\\python\\python312\\lib\\site-packages (from pandas) (2.9.0.post0)\n",
      "Requirement already satisfied: pytz>=2020.1 in c:\\users\\ematimot\\appdata\\local\\programs\\python\\python312\\lib\\site-packages (from pandas) (2025.2)\n",
      "Requirement already satisfied: tzdata>=2022.7 in c:\\users\\ematimot\\appdata\\local\\programs\\python\\python312\\lib\\site-packages (from pandas) (2025.2)\n",
      "Requirement already satisfied: colorama in c:\\users\\ematimot\\appdata\\local\\programs\\python\\python312\\lib\\site-packages (from tqdm) (0.4.6)\n",
      "Requirement already satisfied: six>=1.5 in c:\\users\\ematimot\\appdata\\local\\programs\\python\\python312\\lib\\site-packages (from python-dateutil>=2.8.2->pandas) (1.17.0)\n",
      "Downloading google_play_scraper-1.2.7-py3-none-any.whl (28 kB)\n",
      "Downloading tqdm-4.67.1-py3-none-any.whl (78 kB)\n",
      "Installing collected packages: tqdm, google-play-scraper\n",
      "Successfully installed google-play-scraper-1.2.7 tqdm-4.67.1\n"
     ]
    },
    {
     "name": "stderr",
     "output_type": "stream",
     "text": [
      "\n",
      "[notice] A new release of pip is available: 24.2 -> 25.1.1\n",
      "[notice] To update, run: python.exe -m pip install --upgrade pip\n"
     ]
    }
   ],
   "source": [
    "!pip install google-play-scraper pandas tqdm\n"
   ]
  },
  {
   "cell_type": "code",
   "execution_count": 3,
   "id": "a02e52bc-a2ac-42eb-88cf-7c6aa33802bb",
   "metadata": {},
   "outputs": [],
   "source": [
    "from google_play_scraper import Sort, reviews\n",
    "import pandas as pd\n",
    "from tqdm import tqdm\n",
    "\n",
    "def fetch_reviews(app_id, bank_name, lang='en', country='us', total=400):\n",
    "    all_reviews = []\n",
    "    batch_size = 100\n",
    "    fetched = 0\n",
    "\n",
    "    print(f\"Fetching reviews for {bank_name}...\")\n",
    "\n",
    "    while fetched < total:\n",
    "        result, _ = reviews(\n",
    "            app_id,\n",
    "            lang=lang,\n",
    "            country=country,\n",
    "            sort=Sort.NEWEST,\n",
    "            count=min(batch_size, total - fetched),\n",
    "            filter_score_with=None  # Get all ratings\n",
    "        )\n",
    "        for review in result:\n",
    "            all_reviews.append({\n",
    "                'review': review['content'],\n",
    "                'rating': review['score'],\n",
    "                'date': review['at'].date(),\n",
    "                'bank': bank_name,\n",
    "                'source': 'Google Play'\n",
    "            })\n",
    "        fetched += len(result)\n",
    "        if not result:\n",
    "            break  # Stop if no more reviews available\n",
    "\n",
    "    return pd.DataFrame(all_reviews)\n"
   ]
  },
  {
   "cell_type": "code",
   "execution_count": 11,
   "id": "e1c222a9-c1b4-4f89-ba86-f5b7fd94afed",
   "metadata": {},
   "outputs": [
    {
     "name": "stdout",
     "output_type": "stream",
     "text": [
      "(200, 5)\n"
     ]
    },
    {
     "data": {
      "text/html": [
       "<div>\n",
       "<style scoped>\n",
       "    .dataframe tbody tr th:only-of-type {\n",
       "        vertical-align: middle;\n",
       "    }\n",
       "\n",
       "    .dataframe tbody tr th {\n",
       "        vertical-align: top;\n",
       "    }\n",
       "\n",
       "    .dataframe thead th {\n",
       "        text-align: right;\n",
       "    }\n",
       "</style>\n",
       "<table border=\"1\" class=\"dataframe\">\n",
       "  <thead>\n",
       "    <tr style=\"text-align: right;\">\n",
       "      <th></th>\n",
       "      <th>review</th>\n",
       "      <th>rating</th>\n",
       "      <th>date</th>\n",
       "      <th>bank</th>\n",
       "      <th>source</th>\n",
       "    </tr>\n",
       "  </thead>\n",
       "  <tbody>\n",
       "    <tr>\n",
       "      <th>0</th>\n",
       "      <td>really am happy to this app it is Siple to use...</td>\n",
       "      <td>5</td>\n",
       "      <td>2025-06-07 01:02:38</td>\n",
       "      <td>CBE</td>\n",
       "      <td>Google Play</td>\n",
       "    </tr>\n",
       "    <tr>\n",
       "      <th>1</th>\n",
       "      <td>I liked this app. But the User interface is ve...</td>\n",
       "      <td>2</td>\n",
       "      <td>2025-06-07 00:50:29</td>\n",
       "      <td>CBE</td>\n",
       "      <td>Google Play</td>\n",
       "    </tr>\n",
       "    <tr>\n",
       "      <th>2</th>\n",
       "      <td>\"Why don’t your ATMs support account-to-accoun...</td>\n",
       "      <td>4</td>\n",
       "      <td>2025-06-05 23:54:11</td>\n",
       "      <td>CBE</td>\n",
       "      <td>Google Play</td>\n",
       "    </tr>\n",
       "    <tr>\n",
       "      <th>3</th>\n",
       "      <td>what is this app problem???</td>\n",
       "      <td>1</td>\n",
       "      <td>2025-06-05 12:16:56</td>\n",
       "      <td>CBE</td>\n",
       "      <td>Google Play</td>\n",
       "    </tr>\n",
       "    <tr>\n",
       "      <th>4</th>\n",
       "      <td>the app is proactive and a good connections.</td>\n",
       "      <td>5</td>\n",
       "      <td>2025-06-05 05:55:10</td>\n",
       "      <td>CBE</td>\n",
       "      <td>Google Play</td>\n",
       "    </tr>\n",
       "  </tbody>\n",
       "</table>\n",
       "</div>"
      ],
      "text/plain": [
       "                                              review  rating  \\\n",
       "0  really am happy to this app it is Siple to use...       5   \n",
       "1  I liked this app. But the User interface is ve...       2   \n",
       "2  \"Why don’t your ATMs support account-to-accoun...       4   \n",
       "3                        what is this app problem???       1   \n",
       "4       the app is proactive and a good connections.       5   \n",
       "\n",
       "                 date bank       source  \n",
       "0 2025-06-07 01:02:38  CBE  Google Play  \n",
       "1 2025-06-07 00:50:29  CBE  Google Play  \n",
       "2 2025-06-05 23:54:11  CBE  Google Play  \n",
       "3 2025-06-05 12:16:56  CBE  Google Play  \n",
       "4 2025-06-05 05:55:10  CBE  Google Play  "
      ]
     },
     "execution_count": 11,
     "metadata": {},
     "output_type": "execute_result"
    }
   ],
   "source": [
    "from google_play_scraper import Sort, reviews\n",
    "import pandas as pd\n",
    "\n",
    "def fetch_reviews(app_id, bank_name, total=100):\n",
    "    all_reviews = []\n",
    "    count = 0\n",
    "    next_token = None\n",
    "\n",
    "    while count < total:\n",
    "        fetched, next_token = reviews(\n",
    "            app_id,\n",
    "            lang='en',\n",
    "            country='us',\n",
    "            sort=Sort.NEWEST,\n",
    "            count=100,  # Try fetching in 100s\n",
    "            continuation_token=next_token\n",
    "        )\n",
    "        if not fetched:\n",
    "            break\n",
    "\n",
    "        for r in fetched:\n",
    "            all_reviews.append({\n",
    "                'review': r.get('content'),\n",
    "                'rating': r.get('score'),\n",
    "                'date': r.get('at'),\n",
    "                'bank': bank_name,\n",
    "                'source': 'Google Play'\n",
    "            })\n",
    "        count += len(fetched)\n",
    "\n",
    "    df = pd.DataFrame(all_reviews)\n",
    "    return df\n",
    "\n",
    "# 🔍 Test with CBE App ID (Make sure this ID is correct)\n",
    "df_cbe = fetch_reviews('com.combanketh.mobilebanking', 'CBE', total=200)\n",
    "print(df_cbe.shape)\n",
    "df_cbe.head()\n"
   ]
  },
  {
   "cell_type": "code",
   "execution_count": 12,
   "id": "4e2663ea-aa68-4add-a88b-7281b2118601",
   "metadata": {},
   "outputs": [
    {
     "name": "stdout",
     "output_type": "stream",
     "text": [
      "(100, 5)\n"
     ]
    },
    {
     "data": {
      "text/html": [
       "<div>\n",
       "<style scoped>\n",
       "    .dataframe tbody tr th:only-of-type {\n",
       "        vertical-align: middle;\n",
       "    }\n",
       "\n",
       "    .dataframe tbody tr th {\n",
       "        vertical-align: top;\n",
       "    }\n",
       "\n",
       "    .dataframe thead th {\n",
       "        text-align: right;\n",
       "    }\n",
       "</style>\n",
       "<table border=\"1\" class=\"dataframe\">\n",
       "  <thead>\n",
       "    <tr style=\"text-align: right;\">\n",
       "      <th></th>\n",
       "      <th>review</th>\n",
       "      <th>rating</th>\n",
       "      <th>date</th>\n",
       "      <th>bank</th>\n",
       "      <th>source</th>\n",
       "    </tr>\n",
       "  </thead>\n",
       "  <tbody>\n",
       "    <tr>\n",
       "      <th>0</th>\n",
       "      <td>really am happy to this app it is Siple to use...</td>\n",
       "      <td>5</td>\n",
       "      <td>2025-06-07 01:02:38</td>\n",
       "      <td>CBE</td>\n",
       "      <td>Google Play</td>\n",
       "    </tr>\n",
       "    <tr>\n",
       "      <th>1</th>\n",
       "      <td>I liked this app. But the User interface is ve...</td>\n",
       "      <td>2</td>\n",
       "      <td>2025-06-07 00:50:29</td>\n",
       "      <td>CBE</td>\n",
       "      <td>Google Play</td>\n",
       "    </tr>\n",
       "    <tr>\n",
       "      <th>2</th>\n",
       "      <td>\"Why don’t your ATMs support account-to-accoun...</td>\n",
       "      <td>4</td>\n",
       "      <td>2025-06-05 23:54:11</td>\n",
       "      <td>CBE</td>\n",
       "      <td>Google Play</td>\n",
       "    </tr>\n",
       "    <tr>\n",
       "      <th>3</th>\n",
       "      <td>what is this app problem???</td>\n",
       "      <td>1</td>\n",
       "      <td>2025-06-05 12:16:56</td>\n",
       "      <td>CBE</td>\n",
       "      <td>Google Play</td>\n",
       "    </tr>\n",
       "    <tr>\n",
       "      <th>4</th>\n",
       "      <td>the app is proactive and a good connections.</td>\n",
       "      <td>5</td>\n",
       "      <td>2025-06-05 05:55:10</td>\n",
       "      <td>CBE</td>\n",
       "      <td>Google Play</td>\n",
       "    </tr>\n",
       "  </tbody>\n",
       "</table>\n",
       "</div>"
      ],
      "text/plain": [
       "                                              review  rating  \\\n",
       "0  really am happy to this app it is Siple to use...       5   \n",
       "1  I liked this app. But the User interface is ve...       2   \n",
       "2  \"Why don’t your ATMs support account-to-accoun...       4   \n",
       "3                        what is this app problem???       1   \n",
       "4       the app is proactive and a good connections.       5   \n",
       "\n",
       "                 date bank       source  \n",
       "0 2025-06-07 01:02:38  CBE  Google Play  \n",
       "1 2025-06-07 00:50:29  CBE  Google Play  \n",
       "2 2025-06-05 23:54:11  CBE  Google Play  \n",
       "3 2025-06-05 12:16:56  CBE  Google Play  \n",
       "4 2025-06-05 05:55:10  CBE  Google Play  "
      ]
     },
     "execution_count": 12,
     "metadata": {},
     "output_type": "execute_result"
    }
   ],
   "source": [
    "# Fetch reviews for all 3 banks\n",
    "df_cbe = fetch_reviews('com.combanketh.mobilebanking', 'CBE')\n",
    "df_boa = fetch_reviews('com.boa.boaMobileBanking&hl', 'BOA')\n",
    "df_dashen = fetch_reviews('com.dashen.dashensuperapp&hl', 'Dashen')\n",
    "\n",
    "# Combine and check\n",
    "df_all = pd.concat([df_cbe, df_boa, df_dashen], ignore_index=True)\n",
    "print(df_all.shape)\n",
    "df_all.head()\n"
   ]
  },
  {
   "cell_type": "code",
   "execution_count": 14,
   "id": "135d485d-3e4b-4864-951c-102558ade9d9",
   "metadata": {},
   "outputs": [
    {
     "name": "stdout",
     "output_type": "stream",
     "text": [
      "✅ Cleaned data saved to data/bank_reviews_clean.csv\n"
     ]
    }
   ],
   "source": [
    "# Remove duplicates\n",
    "df_all.drop_duplicates(subset='review', inplace=True)\n",
    "\n",
    "# Drop empty reviews\n",
    "df_all.dropna(subset=['review'], inplace=True)\n",
    "\n",
    "# Normalize date\n",
    "df_all['date'] = pd.to_datetime(df_all['date']).dt.strftime('%Y-%m-%d')\n",
    "\n",
    "df_all.reset_index(drop=True, inplace=True)\n",
    "df_all.to_csv('../data/bank_reviews_clean.csv', index=False)\n",
    "\n",
    "print(\"✅ Cleaned data saved to data/bank_reviews_clean.csv\")\n"
   ]
  },
  {
   "cell_type": "code",
   "execution_count": 15,
   "id": "03ddb2e7-7c04-497e-99aa-dd6b6b0cc90b",
   "metadata": {},
   "outputs": [
    {
     "data": {
      "text/plain": [
       "bank\n",
       "CBE    86\n",
       "Name: count, dtype: int64"
      ]
     },
     "execution_count": 15,
     "metadata": {},
     "output_type": "execute_result"
    }
   ],
   "source": [
    "df_all['bank'].value_counts()\n"
   ]
  },
  {
   "cell_type": "code",
   "execution_count": null,
   "id": "71a312a4-cbb8-4457-aed9-6d7026c66f61",
   "metadata": {},
   "outputs": [],
   "source": []
  }
 ],
 "metadata": {
  "kernelspec": {
   "display_name": "Python 3 (ipykernel)",
   "language": "python",
   "name": "python3"
  },
  "language_info": {
   "codemirror_mode": {
    "name": "ipython",
    "version": 3
   },
   "file_extension": ".py",
   "mimetype": "text/x-python",
   "name": "python",
   "nbconvert_exporter": "python",
   "pygments_lexer": "ipython3",
   "version": "3.12.6"
  }
 },
 "nbformat": 4,
 "nbformat_minor": 5
}
